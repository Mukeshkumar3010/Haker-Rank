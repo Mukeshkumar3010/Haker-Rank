{
 "cells": [
  {
   "cell_type": "code",
   "execution_count": 10,
   "metadata": {},
   "outputs": [],
   "source": [
    "def timeConversion(s):\n",
    "    testtmp = []\n",
    "    testtmp = s.split(\":\",1)\n",
    "    if testtmp[0] == \"12\":\n",
    "        testtmp[0] = \"00\"\n",
    "        s = \":\".join(testtmp)\n",
    "    temp = []\n",
    "    if s.find(\"PM\") != -1:\n",
    "        s = s.replace(\"PM\",\"\")\n",
    "        temp=s.split(\":\",1)\n",
    "        temp[0] = str(int(temp[0])+12)\n",
    "        final = \":\".join(temp)\n",
    "        return final\n",
    "    else:\n",
    "        return s.replace(\"AM\",\"\")"
   ]
  },
  {
   "cell_type": "code",
   "execution_count": 11,
   "metadata": {},
   "outputs": [
    {
     "data": {
      "text/plain": [
       "'12:05:45'"
      ]
     },
     "execution_count": 11,
     "metadata": {},
     "output_type": "execute_result"
    }
   ],
   "source": [
    "\n",
    "timeConversion(\"12:05:45AM\")"
   ]
  },
  {
   "cell_type": "code",
   "execution_count": 9,
   "metadata": {},
   "outputs": [
    {
     "data": {
      "text/plain": [
       "'23:05:45'"
      ]
     },
     "execution_count": 9,
     "metadata": {},
     "output_type": "execute_result"
    }
   ],
   "source": [
    "timeConversion(\"11:05:45PM\")"
   ]
  },
  {
   "cell_type": "code",
   "execution_count": null,
   "metadata": {},
   "outputs": [],
   "source": []
  }
 ],
 "metadata": {
  "kernelspec": {
   "display_name": "Python 3",
   "language": "python",
   "name": "python3"
  },
  "language_info": {
   "codemirror_mode": {
    "name": "ipython",
    "version": 3
   },
   "file_extension": ".py",
   "mimetype": "text/x-python",
   "name": "python",
   "nbconvert_exporter": "python",
   "pygments_lexer": "ipython3",
   "version": "3.6.5"
  }
 },
 "nbformat": 4,
 "nbformat_minor": 2
}
