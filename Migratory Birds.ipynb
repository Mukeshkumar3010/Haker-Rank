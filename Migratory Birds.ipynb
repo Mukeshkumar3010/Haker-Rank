{
 "cells": [
  {
   "cell_type": "code",
   "execution_count": 1,
   "metadata": {},
   "outputs": [],
   "source": [
    "def migratoryBirds(arr):\n",
    "    myDict = {}\n",
    "    for brd in arr:\n",
    "        if brd in myDict:\n",
    "            myDict[brd] += 1\n",
    "        else:\n",
    "            myDict[brd] = 1\n",
    "            \n",
    "    values = myDict.values()\n",
    "    best = max(myDict.values())\n",
    "    brds = []\n",
    "    for k in myDict:\n",
    "        if myDict[k] == best:\n",
    "            brds.append(k)\n",
    "    return min(brds)"
   ]
  },
  {
   "cell_type": "code",
   "execution_count": 3,
   "metadata": {},
   "outputs": [
    {
     "name": "stdout",
     "output_type": "stream",
     "text": [
      "11\n",
      "1 2 3 4 5 4 3 2 1 3 4\n",
      "3\n"
     ]
    }
   ],
   "source": [
    "arr_count = int(input().strip())\n",
    "\n",
    "arr = list(map(int, input().rstrip().split()))\n",
    "\n",
    "result = migratoryBirds(arr)\n",
    "print(result)"
   ]
  },
  {
   "cell_type": "code",
   "execution_count": null,
   "metadata": {},
   "outputs": [],
   "source": []
  }
 ],
 "metadata": {
  "kernelspec": {
   "display_name": "Python 3",
   "language": "python",
   "name": "python3"
  },
  "language_info": {
   "codemirror_mode": {
    "name": "ipython",
    "version": 3
   },
   "file_extension": ".py",
   "mimetype": "text/x-python",
   "name": "python",
   "nbconvert_exporter": "python",
   "pygments_lexer": "ipython3",
   "version": "3.6.5"
  }
 },
 "nbformat": 4,
 "nbformat_minor": 2
}
