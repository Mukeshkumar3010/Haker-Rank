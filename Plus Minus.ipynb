{
 "cells": [
  {
   "cell_type": "code",
   "execution_count": 13,
   "metadata": {},
   "outputs": [],
   "source": [
    "def plusMinus(arr):\n",
    "    Counter_N = 0\n",
    "    Counter_P = 0\n",
    "    Counter_0 = 0\n",
    "    \n",
    "    for element in arr:\n",
    "        if element < 0:\n",
    "            Counter_N +=1\n",
    "        elif element > 0:\n",
    "            Counter_P +=1\n",
    "        else:\n",
    "            Counter_0 +=1\n",
    "    print(str.format(\"{0:.6f}\",(Counter_P/len(arr))),str.format(\"{0:.6f}\",(Counter_N/len(arr))),str.format(\"{0:.6f}\",(Counter_0/len(arr))), sep =\"\\n\")"
   ]
  },
  {
   "cell_type": "code",
   "execution_count": 14,
   "metadata": {},
   "outputs": [
    {
     "name": "stdout",
     "output_type": "stream",
     "text": [
      "0.500000\n",
      "0.333333\n",
      "0.166667\n"
     ]
    }
   ],
   "source": [
    "plusMinus([-4, 3, -9, 0, 4, 1])"
   ]
  },
  {
   "cell_type": "code",
   "execution_count": null,
   "metadata": {},
   "outputs": [],
   "source": []
  }
 ],
 "metadata": {
  "kernelspec": {
   "display_name": "Python 3",
   "language": "python",
   "name": "python3"
  },
  "language_info": {
   "codemirror_mode": {
    "name": "ipython",
    "version": 3
   },
   "file_extension": ".py",
   "mimetype": "text/x-python",
   "name": "python",
   "nbconvert_exporter": "python",
   "pygments_lexer": "ipython3",
   "version": "3.6.5"
  }
 },
 "nbformat": 4,
 "nbformat_minor": 2
}
