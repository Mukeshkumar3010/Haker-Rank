{
 "cells": [
  {
   "cell_type": "code",
   "execution_count": 35,
   "metadata": {},
   "outputs": [],
   "source": [
    "def miniMaxSum(arr):\n",
    "    s_Rmax = arr[:]\n",
    "    s_Rmin = arr[:]\n",
    "    Sum_Rmax = 0\n",
    "    Sum_Rmin = 0\n",
    "    s_Rmin.remove(min(s_Rmin))\n",
    "    s_Rmax.remove(max(s_Rmax))\n",
    "\n",
    "    for i in range(4):\n",
    "        Sum_Rmax+=s_Rmax[i]\n",
    "        Sum_Rmin+=s_Rmin[i]\n",
    "    print(str(Sum_Rmax) + \" \" + str(Sum_Rmin) )"
   ]
  },
  {
   "cell_type": "code",
   "execution_count": 36,
   "metadata": {},
   "outputs": [
    {
     "name": "stdout",
     "output_type": "stream",
     "text": [
      "10 14\n"
     ]
    }
   ],
   "source": [
    "miniMaxSum([1,2,3,4,5])"
   ]
  },
  {
   "cell_type": "code",
   "execution_count": null,
   "metadata": {},
   "outputs": [],
   "source": []
  }
 ],
 "metadata": {
  "kernelspec": {
   "display_name": "Python 3",
   "language": "python",
   "name": "python3"
  },
  "language_info": {
   "codemirror_mode": {
    "name": "ipython",
    "version": 3
   },
   "file_extension": ".py",
   "mimetype": "text/x-python",
   "name": "python",
   "nbconvert_exporter": "python",
   "pygments_lexer": "ipython3",
   "version": "3.6.5"
  }
 },
 "nbformat": 4,
 "nbformat_minor": 2
}
