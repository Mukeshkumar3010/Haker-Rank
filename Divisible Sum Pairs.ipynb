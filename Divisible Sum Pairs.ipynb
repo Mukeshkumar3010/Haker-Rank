{
 "cells": [
  {
   "cell_type": "code",
   "execution_count": 1,
   "metadata": {},
   "outputs": [],
   "source": [
    "def divisibleSumPairs(n, k, ar):\n",
    "    freq = 0\n",
    "    for i in range(n):\n",
    "        for j in range(i+1,n):\n",
    "            if (ar[i]+ar[j])%k==0:\n",
    "                freq +=1\n",
    "    return freq"
   ]
  },
  {
   "cell_type": "code",
   "execution_count": 3,
   "metadata": {},
   "outputs": [
    {
     "name": "stdout",
     "output_type": "stream",
     "text": [
      "6 5\n",
      "1 2 3 4 5 6\n",
      "3\n"
     ]
    }
   ],
   "source": [
    "nk = input().split()\n",
    "\n",
    "n = int(nk[0])\n",
    "\n",
    "k = int(nk[1])\n",
    "\n",
    "ar = list(map(int, input().rstrip().split()))\n",
    "\n",
    "result = divisibleSumPairs(n, k, ar)\n",
    "\n",
    "print(result)"
   ]
  },
  {
   "cell_type": "code",
   "execution_count": null,
   "metadata": {},
   "outputs": [],
   "source": [
    "def divisibleSumPairs(n, k, ar):\n",
    "    nums = [0] * k\n",
    "    count = 0\n",
    "    for ele in ar:\n",
    "        modu = ele % k\n",
    "        print(f\"{ele} {modu} {count} {nums} - after modu\")\n",
    "        count += nums[(k - modu) % k]\n",
    "        print(f\"{ele} {modu} {count} {nums} - after count+=\")\n",
    "        nums[modu] += 1\n",
    "        print(f\"{ele} {modu} {count} {nums} - after nums+=\")\n",
    "        print(\"-----------------------\")\n",
    "    return count\n",
    "ar = [1, 2, 3, 4, 5, 6]\n",
    "n = 6\n",
    "k = 5\n",
    "result = divisibleSumPairs(n, k, ar)\n",
    "print(result)"
   ]
  }
 ],
 "metadata": {
  "kernelspec": {
   "display_name": "Python 3",
   "language": "python",
   "name": "python3"
  },
  "language_info": {
   "codemirror_mode": {
    "name": "ipython",
    "version": 3
   },
   "file_extension": ".py",
   "mimetype": "text/x-python",
   "name": "python",
   "nbconvert_exporter": "python",
   "pygments_lexer": "ipython3",
   "version": "3.6.5"
  }
 },
 "nbformat": 4,
 "nbformat_minor": 2
}
